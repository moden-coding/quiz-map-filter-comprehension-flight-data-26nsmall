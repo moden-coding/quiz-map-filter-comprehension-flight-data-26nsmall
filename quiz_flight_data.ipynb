{
 "cells": [
  {
   "cell_type": "markdown",
   "id": "c5d33370",
   "metadata": {
    "id": "c5d33370"
   },
   "source": [
    "\n",
    "#Flight Departure Sample (On‑Time & Delays)\n",
    "**Instructions:**  \n",
    "- You will work directly in this notebook.  \n",
    "- For each task, write *both* your code **and** a short explanation of how your code works (1–3 sentences).  \n",
    "- Keep your answers in the provided `# TODO` cells. Do not delete the original dataset cells.\n",
    "\n",
    "---\n"
   ]
  },
  {
   "cell_type": "markdown",
   "id": "397fd34c",
   "metadata": {
    "id": "397fd34c"
   },
   "source": [
    "**Dataset:** A small, realistic sample inspired by U.S. domestic flight records. Fields per record:  \n",
    "`flight_id, airline, origin, dest, dep_delay_minutes, arr_delay_minutes, distance_miles`\n",
    "\n",
    "> A negative delay means the plane **departed/arrived early**. An on-time arrival is defined as `arr_delay_minutes ≤ 0`.\n"
   ]
  },
  {
   "cell_type": "code",
   "execution_count": 1,
   "id": "0662cb00",
   "metadata": {
    "id": "0662cb00"
   },
   "outputs": [
    {
     "data": {
      "text/plain": [
       "(20,\n",
       " [(101, 'DL', 'BOS', 'ATL', 15, -2, 946),\n",
       "  (102, 'DL', 'BOS', 'DTW', -3, -5, 632),\n",
       "  (111, 'DL', 'ATL', 'MIA', 25, 18, 594)])"
      ]
     },
     "execution_count": 1,
     "metadata": {},
     "output_type": "execute_result"
    }
   ],
   "source": [
    "\n",
    "# ----- DATA: Flights -----\n",
    "flights = [\n",
    "   (101, \"DL\", \"BOS\", \"ATL\",  15,  -2,   946),\n",
    "    (102, \"DL\", \"BOS\", \"DTW\",  -3,  -5,   632),\n",
    "    (111, \"DL\", \"ATL\", \"MIA\",  25,  18,   594),\n",
    "    (112, \"DL\", \"LAX\", \"JFK\", -5,   45,  2475),\n",
    "    (103, \"AA\", \"JFK\", \"CLT\",  40,  35,   541),\n",
    "    (104, \"AA\", \"LGA\", \"ORD\",  -7, -10,   733),\n",
    "    (113, \"AA\", \"DFW\", \"LAX\",  12,   5,  1235),\n",
    "    (114, \"AA\", \"PHL\", \"MIA\",  60,  75,  1013),\n",
    "    (105, \"UA\", \"EWR\", \"DEN\",  52,  60,  1605),\n",
    "    (106, \"UA\", \"BOS\", \"IAD\",   5,  -3,   413),\n",
    "    (115, \"UA\", \"ORD\", \"SFO\",  30,  25,  1846),\n",
    "    (116, \"UA\", \"LAX\", \"HNL\", -15,  40,  2556),\n",
    "    (107, \"B6\", \"JFK\", \"MCO\",  28,  22,   944),\n",
    "    (108, \"B6\", \"BOS\", \"FLL\",  -2,  -8,  1240),\n",
    "    (117, \"B6\", \"FLL\", \"AUS\",  20,  15,  1105),\n",
    "    (118, \"B6\", \"LAX\", \"BOS\",  55,  50,  2611),\n",
    "    (109, \"WN\", \"BOS\", \"BWI\",  12,  -1,   369),\n",
    "    (110, \"WN\", \"BOS\", \"MDW\",  20,  18,   853),\n",
    "    (119, \"WN\", \"DAL\", \"HOU\",   5,   0,    239),\n",
    "    (120, \"WN\", \"PHX\", \"LAS\", -12, -15,   255),\n",
    "]\n",
    "len(flights), flights[:3]\n"
   ]
  },
  {
   "cell_type": "markdown",
   "id": "780967e5",
   "metadata": {
    "id": "780967e5"
   },
   "source": [
    "\n",
    "## Tasks (answer all)\n",
    "1. **On-time flights:** Create a list **on_time_ids** of flight IDs where the arrival delay (arr_delay_min) is ≤ 0. The list might look like: [212, 251,...], but with the appropriate flight numbers from the data above."
   ]
  },
  {
   "cell_type": "code",
   "execution_count": 5,
   "id": "Tm5B0JEAOB3q",
   "metadata": {
    "id": "Tm5B0JEAOB3q"
   },
   "outputs": [
    {
     "data": {
      "text/plain": [
       "[101, 102, 104, 106, 108, 109, 119, 120]"
      ]
     },
     "execution_count": 5,
     "metadata": {},
     "output_type": "execute_result"
    }
   ],
   "source": [
    "on_time_ids = [flight[0] for flight in flights if flight[5] <= 0]\n",
    "on_time_ids"
   ]
  },
  {
   "cell_type": "markdown",
   "id": "ea0a4e3e-9311-4a9e-9778-888f4ca89401",
   "metadata": {
    "id": "5cIDOSKnOCLh"
   },
   "source": [
    "I used a list comphrehension to due this. In the list comphrehension I looped through each tuple in flights and called the 0 index which is the flight id if the 5 index the arrival time was less than 0."
   ]
  },
  {
   "cell_type": "markdown",
   "id": "VPRLDvH1OD0y",
   "metadata": {
    "id": "VPRLDvH1OD0y"
   },
   "source": [
    "2.  **Worst flights ever**: Create a list `red_eye_misery` of (origin, destination, dep_delay_min, arr_delay_min, distance_miles) for flights that are the worst of both worlds:\n",
    "\n",
    "*   They are long-haul flights (distance_miles >= 1500),\n",
    "*   They depart early (dep_delay_min < 0), but\n",
    "*   Still arrive late (arr_delay_min > 0).\n",
    "\n",
    "The result should be a list of tuples."
   ]
  },
  {
   "cell_type": "code",
   "execution_count": 11,
   "id": "8ddd1beb-1583-4836-9a65-e50f0dc5fbe0",
   "metadata": {},
   "outputs": [
    {
     "data": {
      "text/plain": [
       "[['LAX', 'JFK', -5, 45, 2475], ['LAX', 'HNL', -15, 40, 2556]]"
      ]
     },
     "execution_count": 11,
     "metadata": {},
     "output_type": "execute_result"
    }
   ],
   "source": [
    "red_eye_misery = [[flight[2], flight[3], flight[4], flight[5], flight[6]] for flight in flights if flight[6] >=1500 if flight[4]<0 if flight[5]>0]\n",
    "red_eye_misery"
   ]
  },
  {
   "cell_type": "markdown",
   "id": "0f067a9b-727c-4afc-8ce3-2a4482f29e7f",
   "metadata": {},
   "source": [
    "Again I used list comprehension. I looped through each flight and made a list of the origin, dep delay, arr delay, destination, and distance. I then only added those lists if all of the paremeters were of the bad variety. "
   ]
  },
  {
   "cell_type": "markdown",
   "id": "1z25_dSnOEKq",
   "metadata": {
    "id": "1z25_dSnOEKq"
   },
   "source": [
    "3. **Late arrivals:** Build a dictionary `late_flight` mapping flight_id -> {\"long\": bool, \"ontime\": bool} where:\n",
    "*   `\"long\"` is `True` if the flight distance is ≥ 1500 miles\n",
    "*  `\"ontime\"` is `True` if the flight arrived on time (`arr_delay_min` <= 0)\n",
    "\n",
    "\n",
    "\n"
   ]
  },
  {
   "cell_type": "code",
   "execution_count": 12,
   "id": "I_Bn6QU-OEZA",
   "metadata": {
    "id": "I_Bn6QU-OEZA"
   },
   "outputs": [
    {
     "data": {
      "text/plain": [
       "{101: {'long': False, 'ontime': True},\n",
       " 102: {'long': False, 'ontime': True},\n",
       " 111: {'long': False, 'ontime': False},\n",
       " 112: {'long': True, 'ontime': False},\n",
       " 103: {'long': False, 'ontime': False},\n",
       " 104: {'long': False, 'ontime': True},\n",
       " 113: {'long': False, 'ontime': False},\n",
       " 114: {'long': False, 'ontime': False},\n",
       " 105: {'long': True, 'ontime': False},\n",
       " 106: {'long': False, 'ontime': True},\n",
       " 115: {'long': True, 'ontime': False},\n",
       " 116: {'long': True, 'ontime': False},\n",
       " 107: {'long': False, 'ontime': False},\n",
       " 108: {'long': False, 'ontime': True},\n",
       " 117: {'long': False, 'ontime': False},\n",
       " 118: {'long': True, 'ontime': False},\n",
       " 109: {'long': False, 'ontime': True},\n",
       " 110: {'long': False, 'ontime': False},\n",
       " 119: {'long': False, 'ontime': True},\n",
       " 120: {'long': False, 'ontime': True}}"
      ]
     },
     "execution_count": 12,
     "metadata": {},
     "output_type": "execute_result"
    }
   ],
   "source": [
    "late_flight = {flight[0]:{\"long\": flight[6]>=1500, \"ontime\": flight[5]<=0} for flight in flights}\n",
    "late_flight"
   ]
  },
  {
   "cell_type": "markdown",
   "id": "49432d48-317f-44bf-812b-b44c6d1f30bb",
   "metadata": {},
   "source": [
    "For this one I used dictionary comprehension. I looped through flights and created a new dictionary for each flight[0] aka the id. Then in that dictionary I created a new dicitonary where long is mapped to the bool flight[6]>=1500 which is true when the flight is long and ontime to flight[5]<=0 which d"
   ]
  }
 ],
 "metadata": {
  "colab": {
   "provenance": []
  },
  "kernelspec": {
   "display_name": "Python [conda env:base] *",
   "language": "python",
   "name": "conda-base-py"
  },
  "language_info": {
   "codemirror_mode": {
    "name": "ipython",
    "version": 3
   },
   "file_extension": ".py",
   "mimetype": "text/x-python",
   "name": "python",
   "nbconvert_exporter": "python",
   "pygments_lexer": "ipython3",
   "version": "3.13.5"
  }
 },
 "nbformat": 4,
 "nbformat_minor": 5
}
